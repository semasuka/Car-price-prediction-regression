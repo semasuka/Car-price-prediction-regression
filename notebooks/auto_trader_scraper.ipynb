{
 "cells": [
  {
   "cell_type": "markdown",
   "metadata": {},
   "source": [
    "### Import all the libraries"
   ]
  },
  {
   "cell_type": "code",
   "execution_count": 87,
   "metadata": {},
   "outputs": [],
   "source": [
    "# Importing the necessary libraries for selenium\n",
    "from selenium import webdriver\n",
    "from selenium.webdriver.common.by import By\n",
    "from selenium.webdriver.support.ui import WebDriverWait, Select\n",
    "from selenium.webdriver.support import expected_conditions as EC\n",
    "from selenium.common.exceptions import TimeoutException"
   ]
  },
  {
   "cell_type": "markdown",
   "metadata": {},
   "source": [
    "### Initialize WebDriver and navigate to the website"
   ]
  },
  {
   "cell_type": "code",
   "execution_count": 88,
   "metadata": {},
   "outputs": [],
   "source": [
    "# initialize the chrome driver\n",
    "driver = webdriver.Chrome()\n",
    "# get the website URL\n",
    "driver.get(\"https://www.autotrader.ca/\")\n",
    "# will wait for an element to be interactable.\n",
    "driver.implicitly_wait(2)"
   ]
  },
  {
   "cell_type": "markdown",
   "metadata": {},
   "source": [
    "### Opening the autotrader website and input a random postal code and press the show me cars button and list all the cars available by removing some filters in the left side"
   ]
  },
  {
   "cell_type": "code",
   "execution_count": null,
   "metadata": {},
   "outputs": [],
   "source": [
    "wait = WebDriverWait(driver, 2)\n",
    "\n",
    "postal_code_input_element = driver.find_element(By.ID, \"locationAddressV2\")\n",
    "postal_code_input_element.send_keys(\"M5V 3L9\")\n",
    "show_me_cars_btn = driver.find_element(By.ID, \"SearchButton\")\n",
    "show_me_cars_btn.click()\n",
    "\n",
    "# click on the postal code box on the left side and change the radius to national to get all the cars listing\n",
    "postal_code_element = driver.find_element(By.ID, \"faceted-Location\")\n",
    "postal_code_element.click()\n",
    "\n",
    "# Locate the dropdown element\n",
    "dropdown_element = driver.find_element(By.ID, \"proximity\")\n",
    "\n",
    "# Initialize Select class\n",
    "select = Select(dropdown_element)\n",
    "\n",
    "# Select the 'National' option\n",
    "select.select_by_visible_text(\"National\")\n",
    "\n",
    "# save by clicking on the apply location button\n",
    "apply_location_btn = wait.until(EC.element_to_be_clickable((By.ID, \"applyLocation\")))\n",
    "\n",
    "apply_location_btn.click()\n",
    "\n",
    "# Locate the checkbox element\n",
    "damaged_checkbox_element = driver.find_element(By.ID, \"rfDamaged\")\n",
    "\n",
    "# Use JavaScript to click the checkbox\n",
    "driver.execute_script(\"arguments[0].click();\", damaged_checkbox_element)\n",
    "\n",
    "try:\n",
    "    # Wait until the apply button becomes clickable\n",
    "    apply_condition_btn = wait.until(EC.element_to_be_clickable((By.ID, \"applyCondition\")))\n",
    "    \n",
    "    # Click the button\n",
    "    apply_condition_btn.click()\n",
    "except TimeoutException:\n",
    "    driver.execute_script(\"document.getElementById('applyCondition').click();\")\n",
    "\n",
    "# click on \"Other Options\" menu\n",
    "other_option_menu  = driver.find_element(By.ID, 'faceted-parent-Other')\n",
    "driver.execute_script(\"arguments[0].click();\", other_option_menu)\n",
    "\n",
    "# Locate the \"With photos\" checkbox element\n",
    "with_photos_checkbox = driver.find_element(By.ID, \"rfPhoto\")\n",
    "\n",
    "# Use JavaScript to uncheck the \"with photo\"checkbox\n",
    "if with_photos_checkbox.is_selected():\n",
    "    driver.execute_script(\"arguments[0].click();\", with_photos_checkbox)\n",
    "\n",
    "# Get the apply button element \n",
    "driver.execute_script(\"arguments[0].click();\", driver.find_element(By.ID, \"applyOthers\"))\n"
   ]
  },
  {
   "cell_type": "code",
   "execution_count": null,
   "metadata": {},
   "outputs": [],
   "source": []
  }
 ],
 "metadata": {
  "kernelspec": {
   "display_name": "Python 3",
   "language": "python",
   "name": "python3"
  },
  "language_info": {
   "codemirror_mode": {
    "name": "ipython",
    "version": 3
   },
   "file_extension": ".py",
   "mimetype": "text/x-python",
   "name": "python",
   "nbconvert_exporter": "python",
   "pygments_lexer": "ipython3",
   "version": "3.11.5"
  }
 },
 "nbformat": 4,
 "nbformat_minor": 2
}
