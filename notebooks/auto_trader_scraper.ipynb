{
 "cells": [
  {
   "cell_type": "markdown",
   "metadata": {},
   "source": [
    "### Import all the libraries"
   ]
  },
  {
   "cell_type": "code",
   "execution_count": 125,
   "metadata": {},
   "outputs": [],
   "source": [
    "# Importing the necessary libraries for selenium\n",
    "from selenium import webdriver\n",
    "from selenium.webdriver.common.by import By\n",
    "from selenium.webdriver.support.ui import WebDriverWait, Select\n",
    "from selenium.webdriver.support import expected_conditions as EC\n",
    "from selenium.common.exceptions import TimeoutException"
   ]
  },
  {
   "cell_type": "markdown",
   "metadata": {},
   "source": [
    "### Initialize WebDriver and navigate to the website"
   ]
  },
  {
   "cell_type": "code",
   "execution_count": 126,
   "metadata": {},
   "outputs": [],
   "source": [
    "# initialize the chrome driver\n",
    "driver = webdriver.Chrome()\n",
    "# get the website URL\n",
    "driver.get(\"https://www.autotrader.ca/\")\n",
    "# will wait for an element to be interactable.\n",
    "driver.implicitly_wait(2)"
   ]
  },
  {
   "cell_type": "markdown",
   "metadata": {},
   "source": [
    "### Opening the autotrader website and input a random postal code and click on \"show me cars\" button and list all the cars available by removing some filters in the search"
   ]
  },
  {
   "cell_type": "code",
   "execution_count": 127,
   "metadata": {},
   "outputs": [],
   "source": [
    "wait = WebDriverWait(driver, 2)\n",
    "\n",
    "postal_code_input_element = driver.find_element(By.ID, \"locationAddressV2\")\n",
    "postal_code_input_element.send_keys(\"M5V 3L9\")\n",
    "show_me_cars_btn = driver.find_element(By.ID, \"SearchButton\")\n",
    "show_me_cars_btn.click()\n",
    "\n",
    "# click on the postal code box on the left side and change the radius to national to get all the cars listing\n",
    "postal_code_element = driver.find_element(By.ID, \"faceted-Location\")\n",
    "postal_code_element.click()\n",
    "\n",
    "# Locate the dropdown element\n",
    "dropdown_element = driver.find_element(By.ID, \"proximity\")\n",
    "\n",
    "# Initialize Select class\n",
    "select = Select(dropdown_element)\n",
    "\n",
    "# Select the 'National' option\n",
    "select.select_by_visible_text(\"National\")\n",
    "\n",
    "# save by clicking on the apply location button\n",
    "apply_location_btn = wait.until(EC.element_to_be_clickable((By.ID, \"applyLocation\")))\n",
    "\n",
    "apply_location_btn.click()\n",
    "\n",
    "# Locate the checkbox element\n",
    "damaged_checkbox_element = driver.find_element(By.ID, \"rfDamaged\")\n",
    "\n",
    "# Use JavaScript to click the checkbox\n",
    "driver.execute_script(\"arguments[0].click();\", damaged_checkbox_element)\n",
    "\n",
    "try:\n",
    "    # Wait until the apply button becomes clickable\n",
    "    apply_condition_btn = wait.until(EC.element_to_be_clickable((By.ID, \"applyCondition\")))\n",
    "    \n",
    "    # Click the button\n",
    "    apply_condition_btn.click()\n",
    "except TimeoutException:\n",
    "    driver.execute_script(\"document.getElementById('applyCondition').click();\")\n",
    "\n",
    "# click on \"Other Options\" menu\n",
    "other_option_menu  = driver.find_element(By.ID, 'faceted-parent-Other')\n",
    "driver.execute_script(\"arguments[0].click();\", other_option_menu)\n",
    "\n",
    "# Locate the \"With photos\" checkbox element\n",
    "with_photos_checkbox = driver.find_element(By.ID, \"rfPhoto\")\n",
    "\n",
    "# Use JavaScript to uncheck the \"with photo\"checkbox\n",
    "if with_photos_checkbox.is_selected():\n",
    "    driver.execute_script(\"arguments[0].click();\", with_photos_checkbox)\n",
    "\n",
    "# Get the apply button element \n",
    "driver.execute_script(\"arguments[0].click();\", driver.find_element(By.ID, \"applyOthers\"))\n",
    "\n",
    "\n",
    "\n",
    "# Locate the drop-down element for the displaying the number of cars on the list\n",
    "display_dropdown_element = driver.find_element(By.ID,\"pageSize\")\n",
    "\n",
    "# Initialize Select class\n",
    "select = Select(display_dropdown_element)\n",
    "\n",
    "# Select the '100' option by visible text\n",
    "select.select_by_visible_text(\"100\")\n",
    "\n"
   ]
  },
  {
   "cell_type": "markdown",
   "metadata": {},
   "source": [
    "### Grabbing car's details"
   ]
  },
  {
   "cell_type": "code",
   "execution_count": null,
   "metadata": {},
   "outputs": [],
   "source": [
    "all_makers = {\n",
    "    'AC' : ['Ace', 'Cobra', 'Sport'], \n",
    "    'Acadian' : , \n",
    "    'Acura' : , \n",
    "    'Alfa Romeo' : ,\n",
    "    'Allard' : ,\n",
    "    'AM General' : ,\n",
    "    'American Bantam' : ,\n",
    "    'American Motors (AMC)' : ,\n",
    "    'Amphicar' : ,\n",
    "    'Ariel' : ,\n",
    "    'Aston Martin' : ,\n",
    "    'Auburn' : ,\n",
    "    'Audi' : ,\n",
    "    'Austin' : ,\n",
    "    'Austin-Healey' : ,\n",
    "    'Autozam' : ,\n",
    "    'Bentley' : ,\n",
    "    'BMW' : ,\n",
    "    'Bricklin' : ,\n",
    "    'Bugatti' : ,\n",
    "    'Buick' : ,\n",
    "    'Cadillac' : ,\n",
    "    'Caterham' : ,\n",
    "    'Chevrolet' : ,\n",
    "    'Chrysler' : ,\n",
    "    'Citroen' : ,\n",
    "    'Clenet' : ,\n",
    "    'Daihatsu' : ,\n",
    "    'Daimler' : ,\n",
    "    'Datsun' : ,\n",
    "    'De Soto' : ,\n",
    "    'De Tomaso' : ,\n",
    "    'DeLorean' : ,\n",
    "    'Dodge' : ,\n",
    "    'Dodge or Ram' : ,\n",
    "    'Dune Buggy' : ,\n",
    "    'Eagle' : , \n",
    "    'Essex' : , \n",
    "    'Excalibur' : , \n",
    "    'Factory Five Racing' : , \n",
    "    'Ferrari' : , \n",
    "    'Fiat' : , \n",
    "    'Ford' : , \n",
    "    'Freightliner' : , \n",
    "    'Genesis' : ,\n",
    "    'Geo', 'GMC', 'Hino', 'Holden', 'Honda', 'Hummer', 'Hyundai', 'Infiniti', 'International', 'Isuzu', 'Jaguar', 'Jeep', 'Jensen', 'Jensen-Healey', 'Kaiser', 'Karma', 'Kia', 'Koenigsegg', 'Lamborghini', 'Lancia', 'Land Rover', 'Lexus', 'Lincoln', 'Lotus', 'Lucid', 'Maserati', 'Maybach', 'Mazda', 'McLaren', 'McLaughlin-Buick', 'Mercedes-AMG', 'Mercedes-Benz', 'Mercury', 'MG', 'MINI', 'Mitsubishi', 'Morgan', 'Morris', 'MV-1', 'Nash', 'Nissan', 'Oldsmobile', 'Packard', 'Pagani', 'Passport', 'Plymouth', 'Polestar', 'Pontiac', 'Porsche', 'Radical', 'Ram', 'Renault', 'Rivian', 'Rolls-Royce', 'Rover', 'Saab', 'Saleen', 'Saturn', 'Scion', 'Shelby', 'smart', 'Sterling', 'Studebaker', 'Subaru', 'Sunbeam', 'Superformance', 'Suzuki', 'Tesla', 'Toyota', 'Triumph', 'TVR', 'Volkswagen', 'Volvo', 'Willys'}"
   ]
  },
  {
   "cell_type": "code",
   "execution_count": 128,
   "metadata": {},
   "outputs": [],
   "source": [
    "# TODO: create a loop that goes through all the car listed items until the last item\n",
    "# TODO: by incrementing data-list-numerical-position\n",
    "# Get the first car\n",
    "element = driver.find_element(\"css selector\", \"span[data-list-numerical-position='1']\")\n",
    "element.click()"
   ]
  },
  {
   "cell_type": "code",
   "execution_count": 129,
   "metadata": {},
   "outputs": [
    {
     "name": "stdout",
     "output_type": "stream",
     "text": [
      "Year of Manufacturing: 2016\n",
      "Maker: Nissan\n",
      "Model: Rogue\n"
     ]
    }
   ],
   "source": [
    "# Locate the element using CSS selector\n",
    "car_header_info = driver.find_element(By.CSS_SELECTOR, \"div#heroTitleWrapper > h1\").text\n",
    "\n",
    "# Split the string by spaces and tabs\n",
    "split_string = car_header_info.split()\n",
    "\n",
    "# Assign the first, second, and third words to respective variables\n",
    "year_of_manufacturing = int(split_string[0])  # Convert to integer\n",
    "maker = split_string[1]\n",
    "model = split_string[2]\n",
    "\n",
    "# TODO: come up way to extract these information from the list of car model and maker dropdown menu\n",
    "# TODO: create a list of those variables and store them in a dictionary and check if that diction is \n",
    "# TODO: part if the text extracted\n",
    "# Print the variables\n",
    "print(f\"Year of Manufacturing: {year_of_manufacturing}\")\n",
    "print(f\"Maker: {maker}\")\n",
    "print(f\"Model: {model}\")"
   ]
  },
  {
   "cell_type": "code",
   "execution_count": 131,
   "metadata": {},
   "outputs": [
    {
     "name": "stdout",
     "output_type": "stream",
     "text": [
      "List of Makes: ['Ace', 'Cobra', 'Sport']\n"
     ]
    }
   ],
   "source": [
    "from bs4 import BeautifulSoup\n",
    "\n",
    "# Given HTML content (this is a truncated version; replace it with your full HTML)\n",
    "html_content = '''<option value=\"Ace\">Ace</option><option value=\"Cobra\">Cobra</option><option value=\"Sport\">Sport</option>'''\n",
    "\n",
    "# Initialize BeautifulSoup object\n",
    "soup = BeautifulSoup(html_content, 'html.parser')\n",
    "\n",
    "# Find all <option> tags\n",
    "options = soup.find_all('option')\n",
    "\n",
    "# Extract the text content and store it in a Python list\n",
    "makes = [option.text for option in options]\n",
    "\n",
    "# Print the list\n",
    "print(\"List of Makes:\", makes)\n"
   ]
  },
  {
   "cell_type": "code",
   "execution_count": null,
   "metadata": {},
   "outputs": [],
   "source": [
    "['AC', 'Acadian', 'Acura', 'Alfa Romeo', 'Allard', 'AM General', 'American Bantam', 'American Motors (AMC)', 'Amphicar', 'Ariel', 'Aston Martin', 'Auburn', 'Audi', 'Austin', 'Austin-Healey', 'Autozam', 'Bentley', 'BMW', 'Bricklin', 'Bugatti', 'Buick', 'Cadillac', 'Caterham', 'Chevrolet', 'Chrysler', 'Citroen', 'Clenet', 'Daihatsu', 'Daimler', 'Datsun', 'De Soto', 'De Tomaso', 'DeLorean', 'Dodge', 'Dodge or Ram', 'Dune Buggy', 'Eagle', 'Essex', 'Excalibur', 'Factory Five Racing', 'Ferrari', 'Fiat', 'Ford', 'Freightliner', 'Genesis', 'Geo', 'GMC', 'Hino', 'Holden', 'Honda', 'Hummer', 'Hyundai', 'Infiniti', 'International', 'Isuzu', 'Jaguar', 'Jeep', 'Jensen', 'Jensen-Healey', 'Kaiser', 'Karma', 'Kia', 'Koenigsegg', 'Lamborghini', 'Lancia', 'Land Rover', 'Lexus', 'Lincoln', 'Lotus', 'Lucid', 'Maserati', 'Maybach', 'Mazda', 'McLaren', 'McLaughlin-Buick', 'Mercedes-AMG', 'Mercedes-Benz', 'Mercury', 'MG', 'MINI', 'Mitsubishi', 'Morgan', 'Morris', 'MV-1', 'Nash', 'Nissan', 'Oldsmobile', 'Packard', 'Pagani', 'Passport', 'Plymouth', 'Polestar', 'Pontiac', 'Porsche', 'Radical', 'Ram', 'Renault', 'Rivian', 'Rolls-Royce', 'Rover', 'Saab', 'Saleen', 'Saturn', 'Scion', 'Shelby', 'smart', 'Sterling', 'Studebaker', 'Subaru', 'Sunbeam', 'Superformance', 'Suzuki', 'Tesla', 'Toyota', 'Triumph', 'TVR', 'Volkswagen', 'Volvo', 'Willys']"
   ]
  },
  {
   "cell_type": "code",
   "execution_count": null,
   "metadata": {},
   "outputs": [],
   "source": [
    "<select id=\"rfModel\">\n",
    "                            <option value=\"\" class=\"dropdown-top-row\">Any Model</option>\n",
    "                        <option value=\"Ace\">Ace</option><option value=\"Cobra\">Cobra</option><option value=\"Sport\">Sport</option></select>"
   ]
  },
  {
   "cell_type": "code",
   "execution_count": null,
   "metadata": {},
   "outputs": [],
   "source": [
    "<option value=\"\" class=\"dropdown-top-row\">Any Model</option>"
   ]
  }
 ],
 "metadata": {
  "kernelspec": {
   "display_name": "Python 3",
   "language": "python",
   "name": "python3"
  },
  "language_info": {
   "codemirror_mode": {
    "name": "ipython",
    "version": 3
   },
   "file_extension": ".py",
   "mimetype": "text/x-python",
   "name": "python",
   "nbconvert_exporter": "python",
   "pygments_lexer": "ipython3",
   "version": "3.11.5"
  }
 },
 "nbformat": 4,
 "nbformat_minor": 2
}
