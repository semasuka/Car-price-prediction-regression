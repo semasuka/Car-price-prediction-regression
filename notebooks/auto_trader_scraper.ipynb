{
 "cells": [
  {
   "cell_type": "markdown",
   "metadata": {},
   "source": [
    "### Import all the libraries"
   ]
  },
  {
   "cell_type": "code",
   "execution_count": 161,
   "metadata": {},
   "outputs": [],
   "source": [
    "# Importing the necessary libraries for selenium\n",
    "from selenium import webdriver\n",
    "from selenium.webdriver.common.by import By\n",
    "from selenium.webdriver.support.ui import WebDriverWait, Select\n",
    "from selenium.webdriver.support import expected_conditions as EC\n",
    "from selenium.common.exceptions import TimeoutException\n",
    "from selenium.common.exceptions import NoSuchElementException\n",
    "from rapidfuzz import process\n",
    "import time"
   ]
  },
  {
   "cell_type": "markdown",
   "metadata": {},
   "source": [
    "### Initialize WebDriver and navigate to the website"
   ]
  },
  {
   "cell_type": "code",
   "execution_count": 162,
   "metadata": {},
   "outputs": [],
   "source": [
    "# initialize the chrome driver\n",
    "driver = webdriver.Chrome()\n",
    "wait = WebDriverWait(driver, 2)\n",
    "# get the website URL\n",
    "driver.get(\"https://www.autotrader.ca/\")\n",
    "# will wait for an element to be interactable.\n",
    "driver.implicitly_wait(2)"
   ]
  },
  {
   "cell_type": "markdown",
   "metadata": {},
   "source": [
    "### Get all the cars maker and model names"
   ]
  },
  {
   "cell_type": "code",
   "execution_count": 163,
   "metadata": {},
   "outputs": [
    {
     "name": "stdout",
     "output_type": "stream",
     "text": [
      "AC\n",
      "Acadian\n",
      "Acura\n",
      "Alfa Romeo\n",
      "Allard\n",
      "AM General\n",
      "American Bantam\n",
      "American Motors (AMC)\n",
      "Amphicar\n",
      "Ariel\n",
      "Aston Martin\n",
      "Auburn\n",
      "Audi\n",
      "Austin\n",
      "Austin-Healey\n",
      "Autozam\n",
      "Bentley\n",
      "BMW\n",
      "Bricklin\n",
      "Bugatti\n",
      "Buick\n",
      "Cadillac\n",
      "Caterham\n",
      "Chevrolet\n",
      "Chrysler\n",
      "Citroen\n",
      "Clenet\n",
      "Daihatsu\n",
      "Daimler\n",
      "Datsun\n",
      "De Soto\n",
      "De Tomaso\n",
      "DeLorean\n",
      "Dodge\n",
      "Dodge or Ram\n",
      "Dune Buggy\n",
      "Eagle\n",
      "Essex\n",
      "Excalibur\n",
      "Factory Five Racing\n",
      "Ferrari\n",
      "Fiat\n",
      "Ford\n",
      "Freightliner\n",
      "Genesis\n",
      "Geo\n",
      "GMC\n",
      "Hino\n",
      "Holden\n",
      "Honda\n",
      "Hummer\n",
      "Hyundai\n",
      "Infiniti\n",
      "International\n",
      "Isuzu\n",
      "Jaguar\n",
      "Jeep\n",
      "Jensen\n",
      "Jensen-Healey\n",
      "Kaiser\n",
      "Karma\n",
      "Kia\n",
      "Koenigsegg\n",
      "Lamborghini\n",
      "Lancia\n",
      "Land Rover\n",
      "Lexus\n",
      "Lincoln\n",
      "Lotus\n",
      "Lucid\n",
      "Maserati\n",
      "Maybach\n",
      "Mazda\n",
      "McLaren\n",
      "McLaughlin-Buick\n",
      "Mercedes-AMG\n",
      "Mercedes-Benz\n",
      "Mercury\n",
      "MG\n",
      "MINI\n",
      "Mitsubishi\n",
      "Morgan\n",
      "Morris\n",
      "MV-1\n",
      "Nash\n",
      "Nissan\n",
      "Oldsmobile\n",
      "Packard\n",
      "Pagani\n",
      "Passport\n",
      "Plymouth\n",
      "Polestar\n",
      "Pontiac\n",
      "Porsche\n",
      "Radical\n",
      "Ram\n",
      "Renault\n",
      "Rivian\n",
      "Rolls-Royce\n",
      "Rover\n",
      "Saab\n",
      "Saleen\n",
      "Saturn\n",
      "Scion\n",
      "Shelby\n",
      "smart\n",
      "Sterling\n",
      "Studebaker\n",
      "Subaru\n",
      "Sunbeam\n",
      "Superformance\n",
      "Suzuki\n",
      "Tesla\n",
      "Toyota\n",
      "Triumph\n",
      "TVR\n",
      "Volkswagen\n",
      "Volvo\n",
      "Willys\n"
     ]
    }
   ],
   "source": [
    "# Initialize Dictionary that will store the make as key and model as value\n",
    "car_data = {}\n",
    "\n",
    "# Locate the 'select' element that host all the cars brand names\n",
    "makes_drop_down_element = driver.find_element(By.ID, \"rfMakes\")\n",
    "\n",
    "# Find the 'optgroup' with label \"All Makes\"\n",
    "all_makes_optgroup = makes_drop_down_element.find_element(By.XPATH, \"./optgroup[@label='All Makes']\")\n",
    "\n",
    "# Find all 'option' elements under the 'optgroup'\n",
    "all_makes_options = all_makes_optgroup.find_elements(By.TAG_NAME, \"option\")\n",
    "\n",
    "# Loop through each 'option' and click it\n",
    "for option in all_makes_options:\n",
    "    car_make = option.text\n",
    "    print(car_make)\n",
    "    option.click()\n",
    "    time.sleep(1.5)\n",
    "    \n",
    "    # Locate the 'select' element for models\n",
    "    model_drop_down_element = driver.find_element(By.ID, \"rfModel\")\n",
    "    \n",
    "    # Find all 'option' elements for models\n",
    "    model_options = model_drop_down_element.find_elements(By.TAG_NAME, \"option\")\n",
    "    \n",
    "    # Initialize list for models\n",
    "    all_models_options = []\n",
    "    \n",
    "    # Loop through each 'option' for models\n",
    "    for model_option in model_options[1:]:  # Skip the first 'option'\n",
    "        all_models_options.append(model_option.text)\n",
    "    \n",
    "    # Store in dictionary\n",
    "    car_data[car_make] = all_models_options\n",
    "# adding non specified car make and model as \"Other\"\n",
    "car_data['Other'] = 'Other'"
   ]
  },
  {
   "cell_type": "code",
   "execution_count": 164,
   "metadata": {},
   "outputs": [],
   "source": [
    "# select \"Any Make\" on the dropdown menu to get all the make\n",
    "selector = Select(makes_drop_down_element)\n",
    "selector.select_by_visible_text('Any Make')\n"
   ]
  },
  {
   "cell_type": "code",
   "execution_count": 165,
   "metadata": {},
   "outputs": [
    {
     "name": "stdout",
     "output_type": "stream",
     "text": [
      "{'AC': ['Ace', 'Cobra', 'Sport'], 'Acadian': ['Beaumont', 'Canso'], 'Acura': ['CL', 'CSX', 'EL', 'ILX', 'Integra', 'MDX', 'NSX', 'RDX', 'RL', 'RLX', 'RSX', 'TL', 'TLX', 'TSX', 'Unspecified', 'ZDX'], 'Alfa Romeo': ['156', '159', '164 Series', '4C Coupe', '4C Spider', 'Alfetta', 'Giulia', 'Giulia Quadrifoglio', 'Giulietta', 'GTV', 'GTV6', 'Milano', 'Spider', 'Stelvio', 'Tonale', 'Tonale PHEV', 'Unspecified'], 'Allard': ['J2X'], 'AM General': ['Hummer', 'Unspecified'], 'American Bantam': ['Roadster'], 'American Motors (AMC)': ['Ambassador', 'American', 'Classic', 'Eagle', 'Gremlin', 'Javelin', 'Rambler'], 'Amphicar': ['770'], 'Ariel': ['Atom'], 'Aston Martin': ['DB11', 'DB7', 'DB7 Vantage', 'DB7 Vantage Volante', 'DB9', 'DBS', 'DBS Superleggera', 'DBX', 'DBX707', 'Rapide S', 'V8 Vantage', 'V8 Vantage S', 'Vanquish', 'Vanquish S', 'Vantage', 'Virage', 'Volante'], 'Auburn': ['160'], 'Audi': ['100', '4000', 'A3', 'A3 Sportback', 'A4', 'A5', 'A6', 'A7', 'A8', 'allroad', 'Cabriolet', 'e-tron', 'e-tron GT', 'e-tron S Sportback', 'e-tron Sportback', 'Q3', 'Q4 e-tron', 'Q4 e-tron Sportback', 'Q5', 'Q7', 'Q8', 'Q8 e-tron', 'Q8 e-tron Sportback', 'Quattro', 'R8', 'RS 3', 'RS 4', 'RS 5', 'RS 6', 'RS 7', 'RS e-tron GT', 'RS Q8', 'S3', 'S4', 'S5', 'S6', 'S7', 'S8', 'SQ5', 'SQ7', 'SQ8', 'TT', 'TT RS', 'TTS', 'Unspecified'], 'Austin': ['A35', 'Mark II', 'Mini', 'Princess'], 'Austin-Healey': ['100-4', '3000 MK III', 'SEBRING 5000', 'Sprite'], 'Autozam': ['AZ-1'], 'Bentley': ['Arnage', 'Azure', 'Bentayga', 'Brooklands', 'Continental', 'Continental Flying Spur', 'Continental GT', 'Continental GT Speed', 'Continental GTC', 'Continental GTC Speed', 'Continental Supersports', 'Flying Spur', 'Mulsanne', 'Turbo R', 'Unspecified'], 'BMW': ['1600', '2002', '1 Series', '2 Series', '3 Series', '3.0', '4 Series', '5 Series', '6 Series', '7 Series', '8 Series', 'E30', 'i3', 'i4', 'i5', 'i7', 'i8', 'iX', 'M', 'M2', 'M240i', 'M3', 'M340i xDrive', 'M4', 'M440i xDrive', 'M5', 'M550i', 'M6', 'M8', 'MZ3', 'Unspecified', 'X1', 'X2', 'X3', 'X3 M', 'X4', 'X4 M', 'X5', 'X5 M', 'X6', 'X6 M', 'X7', 'XM', 'Z3', 'Z3 M', 'Z4', 'Z4 M', 'Z8'], 'Bricklin': ['SV-1'], 'Bugatti': ['Chiron', 'Roadster'], 'Buick': ['Allure', 'Cascada', 'Century', 'Electra', 'Enclave', 'Encore', 'Encore GX', 'Envision', 'Envista', 'GRAND NATIONAL', 'LaCrosse', 'LeSabre', 'Lucerne', 'Reatta', 'Regal', 'Rendezvous', 'Riviera', 'Roadmaster', 'Skylark', 'Special', 'SPORTWAGON', 'Terraza', 'Unspecified', 'Verano'], 'Cadillac': ['ALLANTE', 'ATS', 'ATS-V', 'BIARRITZ', 'Brougham', 'Catera', 'Coupe DeVille', 'CT4', 'CT4-V', 'CT5', 'CT5-V', 'CT6', 'CTS', 'CTS-V', \"d'Elegance\", 'DeVille', 'DTS', 'Eldorado', 'ELR', 'Escalade', 'Escalade ESV', 'Escalade EXT', 'ESCALADE EXV', 'Fleetwood', 'LYRIQ', 'SEDAN DEVILLE', 'Series 62', 'Seville', 'Sixty Special', 'SRX', 'STS', 'STS-V', 'Superior', 'Unspecified', 'XLR', 'XLR-V', 'XT4', 'XT5', 'XT6', 'XTS'], 'Caterham': ['Super 7'], 'Chevrolet': ['150', '210', '1 Ton Chassis-Cabs', '1/2 Ton', '1500 Pickup', '20 Pickup', '2500 Pickup', '30 Pickup', '3100 Pickup', '3500 Pickup', '3500 Pickups', 'AC Delivery', 'AC International', 'Aero', 'Apache', 'Astro', 'Avalanche', 'Aveo', 'AVEO 5', 'Bel Air', 'Biscayne', 'Blazer', 'Blazer EV', 'Bolt EUV', 'Bolt EV', 'C10', 'C1500', 'Camaro', 'Caprice', 'Cavalier', 'Chevelle', 'Chevette', 'Chevy', 'CHEVY VAN', 'Cheyenne', 'City Express', 'Cobalt', 'Colorado', 'Corvair', 'Corvette', 'Cruze', 'Deluxe', 'El Camino', 'Epica', 'Equinox', 'Express Passenger', 'Fleetline', 'Fleetmaster', 'HHR', 'Impala', 'Lumina', 'Malibu', 'Malibu Hybrid', 'MALIBU MAXX', 'Master', 'MASTER 85', 'Monte Carlo', 'Nomad', 'Nova', 'Optra', 'OPTRA 5', 'Orlando', 'P30', 'Pickup', 'S10', 'Silverado', 'Silverado 1500', 'Silverado 1500 LTD', 'SILVERADO 2500HD', 'Silverado 3500', 'SILVERADO 3500HD', 'Silverado 3500HD CC', 'Sonic', 'Spark', 'Spark EV', 'SSR Pickup(please delete)', 'Styleline', 'Stylemaster', 'Suburban', 'Tahoe', 'Tracker', 'TrailBlazer', 'Traverse', 'Trax', 'Unspecified', 'Uplander', 'Venture', 'Volt'], 'Chrysler': ['200', '300', '200S', 'Aspen', 'Cordoba', 'Crossfire', 'Dynasty', 'Fifth Ave', 'Grand Caravan', 'Imperial', 'Intrepid', 'LeBaron', 'Neon', 'New Yorker', 'New Yorker Fifth Avenue', 'Newport', 'Pacifica', 'Pacifica Hybrid', 'Prowler', 'PT Cruiser', 'Royal', 'Sebring', 'Town & Country', 'Unspecified', 'Voyager', 'Windsor'], 'Citroen': ['2CV', 'DS'], 'Clenet': ['Unspecified'], 'Daihatsu': ['Hijet Truck', 'Unspecified'], 'Daimler': ['Unspecified'], 'Datsun': ['620', '720', '240Z', '280 ZX', '280Z'], 'De Soto': ['Adventurer'], 'De Tomaso': ['Pantera'], 'DeLorean': ['DMC-12'], 'Dodge': ['100', '150', '250', '350', '440', '550', '600', '3500', '4500', '1/2 Ton Trucks', '200 Pickup', 'A100', 'Avenger', 'B Series Van', 'Caliber', 'Caravan', 'Caravan C/V', 'Challenger', 'Charger', 'Coronet', 'Custom 880', 'Dakota', 'Dart', 'Demon', 'Durango', 'Fargo', 'Grand Caravan', 'Hornet', 'Hornet PHEV', 'Journey', 'M-37', 'Magnum', 'Monaco', 'Neon', 'Nitro', 'Omni America', 'Power Ram', 'Ram', 'RAM 1500 PICKUP', 'RAM 2500 PICKUP', 'RAM 3500 PICKUP', 'Ram 5500 Cab-Chassis', 'Ram Van', 'Ramcharger', 'Shadow', 'SRT 10', 'Stealth', 'Super Bee', 'SX 2.0', 'Trucks', 'Unspecified', 'Viper', 'W Series Pickup', 'Wagon'], 'Dodge or Ram': ['100', '150', '250', '350', '440', '550', '600', '1500', '2500', '3500', '4500', '1/2 Ton Trucks', '1500 Classic', '200 Pickup', '5500 HD Chassis', 'A100', 'Avenger', 'B Series Van', 'Caliber', 'Caravan', 'Caravan C/V', 'Challenger', 'Charger', 'Coronet', 'Custom 880', 'Dakota', 'Dart', 'Demon', 'Durango', 'Fargo', 'Grand Caravan', 'Hornet', 'Hornet PHEV', 'Journey', 'M-37', 'Magnum', 'Monaco', 'Neon', 'Nitro', 'Omni America', 'Power Ram', 'ProMaster Cargo Van', 'ProMaster City', 'Promaster City Wagon', 'ProMaster Window Van', 'Ram', 'RAM 1500 PICKUP', 'RAM 2500 PICKUP', 'Ram 3500 Cab-Chassis', 'RAM 3500 PICKUP', 'Ram 5500 Cab-Chassis', 'Ram Van', 'Ramcharger', 'Shadow', 'SRT 10', 'Stealth', 'Super Bee', 'SX 2.0', 'Trucks', 'Unspecified', 'Viper', 'W Series Pickup', 'Wagon'], 'Dune Buggy': ['Unspecified'], 'Eagle': ['Talon', 'Vista'], 'Essex': ['Six'], 'Excalibur': ['Roadster', 'Unspecified'], 'Factory Five Racing': ['Mk4 Roadster'], 'Ferrari': ['250', '308', '328', '348', '360', '400', '456', '458', '488', '512', '550', '575', '599', '612', '296 GTB', '355 Spider', '458 Italia', '458 Speciale', '458 Spider', '488 GTB', '488 Pista', '488 Pista Spider', '488 Spider', '575M MARANELLO', '812 GTS', '812 Superfast', 'California', 'California T', 'F12berlinetta', 'F12tdf', 'F355', 'F430', 'F430 Spider', 'F512M', 'F8 Spider', 'F8 Tributo', 'FF', 'GTC4Lusso', 'Mondial T', 'Portofino', 'Portofino M', 'Roma', 'SF90 Spider', 'SF90 Stradale', 'Testarossa', 'Unspecified'], 'Fiat': ['124', '500', '1100', '124 Spider', '131S', '500 Abarth', '500E', '500L', '500X', 'Coupe', 'NEW DOBLO'], 'Ford': ['1 Ton Trucks', '3/4 Ton Trucks', 'Aerostar', 'Aerostar Van', 'Anglia', 'Bronco', 'Bronco 4WD', 'Bronco Sport', 'Club Wagon', 'C-Max', 'C-Max Energi', 'Cobra', 'Country Squire', 'Coupe', 'Crown Victoria', 'Custom', 'Deluxe', 'EcoSport', 'Edge', 'Escape', 'Escort', 'E-Series', 'E-Series Cargo Van', 'E-Series Cutaway', 'E-Transit Cargo Van', 'E-Transit Cutaway', 'Excursion', 'Expedition', 'Explorer', 'Explorer Sport Trac', 'F-1', 'F-100', 'F-150', 'F-150 Lightning', 'F-250', 'F-250 HD Series', 'F-250 HD Series Crew Cab', 'F-250 Series Crew Cab', 'F-250 Series Standard', 'F-350', 'F-350 Series', 'F-450 SUPER DUTY', 'Fairlane', 'Fairmont', 'Falcon', 'Fiesta', 'Five Hundred', 'Flex', 'Focus', 'Focus Electric', 'Freestar', 'Freestyle', 'F-Series Pickup', 'F-Super Duty Trucks', 'Fusion', 'Fusion Energi', 'Fusion Hybrid', 'Galaxie', 'Gran Torino', 'Granada', 'Grand Marquis', 'GT', 'LCF', 'LTD', 'Maverick', 'Model A', 'Model A Truck', 'Model AA', 'Model T', 'Mustang', 'Mustang Mach-E', 'Pickup', 'Pinto', 'Police Interceptor Sedan', 'Police Interceptor Utility', 'Prefect', 'Ranchero', 'Ranger', 'Sedan', 'Super Deluxe', 'Super Duty E-450 DRW', 'Super Duty F-650', 'Taurus', 'Taurus X', 'T-bucket', 'Tempo', 'Thunderbird', 'Torino', 'Transit Cargo Van', 'Transit Connect Cargo Van', 'Transit Connect Passenger Wagon', 'Transit Crew Van', 'Transit Passenger Wagon', 'Unspecified', 'Windstar'], 'Freightliner': ['MT55', 'Unspecified'], 'Genesis': ['Electrified G80', 'Electrified GV70', 'G70', 'G80', 'G90', 'GV60', 'GV70', 'GV80', 'Unspecified'], 'Geo': ['Tracker'], 'GMC': ['910', '9300', '1 Ton Pickups', '150 Pickup', '1500 Pickup', '2500 Cab-Chassis', '2500 HD Chassis-Cabs', '2500 Pickup', '3/4 Ton Pickups', '350 Pickup', '3500 Cab-Chassis', '3500 Chassis-Cabs', '3500 Pickup', 'Acadia', 'Acadia Denali', 'C10 Pickup', 'Canyon', 'Denali', 'Envoy', 'HUMMER EV Pickup', 'HUMMER EV SUV', 'Jimmy', 'New Sierra 1500', 'New Sierra 2500', 'Pickup', 'Safari', 'Savana Cargo Van', 'Savana Passenger', 'Sierra 1500', 'Sierra 1500 Denali', 'Sierra 2500', 'Sierra 2500 Denali HD', 'Sierra 3500', 'Sierra 3500 Denali HD', 'Sierra 3500HD', 'Sierra 3500HD CC', 'Sonoma', 'Sprint', 'Suburban', 'Terrain', 'Terrain Denali', 'Typhoon', 'Unspecified', 'V Jimmy', 'Yukon', 'Yukon Hybrid', 'Yukon XL', 'Yukon XL Denali'], 'Hino': ['185', '338', '195 Commercial', 'Unspecified'], 'Holden': ['Unspecified'], 'Honda': ['Accord', 'Accord Coupe', 'Accord Crosstour', 'Accord Hybrid', 'Accord Sedan', 'Acty', 'Beat', 'Civic', 'Civic Coupe', 'Civic del Sol', 'Civic Hatchback', 'Civic Sedan', 'Civic Type R', 'Clarity Plug-In Hybrid', 'Crosstour', 'CR-V', 'CR-V Hybrid', 'CR-Z', 'del Sol', 'Element', 'Fit', 'HR-V', 'Insight', 'Odyssey', 'Passport', 'Pilot', 'Prelude', 'Ridgeline', 'S2000', 'Stepwgn', 'Unspecified'], 'Hummer': ['H1', 'H2', 'H3', 'H3T', 'Humvee'], 'Hyundai': ['Accent', 'Azera', 'Elantra', 'Elantra Coupe', 'Elantra GT', 'Elantra Hybrid', 'Elantra N', 'Elantra Touring', 'Entourage', 'Equus', 'Genesis', 'Genesis Coupe', 'Ioniq', 'IONIQ 5', 'IONIQ 6', 'Kona', 'Kona Electric', 'Kona N', 'Palisade', 'Santa Cruz', 'Santa Fe', 'Santa Fe Hybrid', 'Santa Fe Plug-In Hybrid', 'Santa Fe Sport', 'Santa Fe XL', 'Sonata', 'Sonata Hybrid', 'Sonata Plug-In Hybrid', 'Tiburon', 'Tucson', 'Tucson Hybrid', 'Tucson Plug-In Hybrid', 'Unspecified', 'Veloster', 'Veloster N', 'Venue', 'Veracruz'], 'Infiniti': ['EX', 'FX', 'G', 'I', 'JX35', 'M', 'M35h', 'M56x', 'Q45', 'Q50', 'Q60', 'Q70', 'Q70L', 'QX', 'QX30', 'QX50', 'QX55', 'QX56', 'QX60', 'QX70', 'QX80', 'Unspecified'], 'International': ['110', '1000', '1110', 'KB-2', 'L120', 'MXT', 'Scout', 'Scout II', 'Unspecified'], 'Isuzu': ['Amigo', 'NRR', 'Trooper', 'Unspecified'], 'Jaguar': ['E-Pace', 'E-Type', 'F-Pace', 'F-Type', 'F-Type R', 'I-Pace', 'SS100', 'S-Type', 'Unspecified', 'Vanden Plas', 'XE', 'XF', 'XFR', 'XJ', 'XJ Series Sedan', 'XJ Soverign', 'XJ12', 'XJ6', 'XJ8', 'XJL', 'XJR', 'XJS', 'XJS Convertible', 'XJS Coupe', 'XJSC', 'XJS-C', 'XK', 'XKR', 'XKR-S', 'X-Type'], 'Jeep': ['4WD Trucks', 'Cherokee', 'CJ 4WD', 'CJ-5', 'CJ-7', 'Commander', 'Compass', 'Gladiator', 'Grand Cherokee', 'Grand Cherokee L', 'Grand Cherokee WK', 'Grand Wagoneer', 'Grand Wagoneer L', 'Liberty', 'Other', 'Patriot', 'Renegade', 'TJ', 'Unspecified', 'Wagoneer', 'Wagoneer 4WD', 'Wagoneer L', 'Wrangler', 'Wrangler JK Unlimited'], 'Jensen': ['Interceptor', 'Unspecified'], 'Jensen-Healey': ['GT'], 'Kaiser': ['Custom'], 'Karma': ['GS-6', 'Revero', 'Revero GT'], 'Kia': ['Amanti', 'Borrego', 'Cadenza', 'Carnival', 'EV6', 'Forte', 'Forte 5-Door', 'Forte Koup', 'Forte5', 'K5', 'K900', 'Magentis', 'Niro', 'Niro EV', 'Niro Plug-In Hybrid', 'Optima', 'Optima Hybrid', 'Optima PHEV', 'Rio', 'Rio 5-door', 'Rio5', 'Rondo', 'Sedona', 'Seltos', 'Sorento', 'Sorento Hybrid', 'Sorento Plug-In Hybrid', 'Soul', 'Soul EV', 'Spectra', 'Spectra5', 'Sportage', 'Sportage Hybrid', 'Sportage Plug-In Hybrid', 'Stinger', 'Telluride', 'Unspecified'], 'Koenigsegg': ['Regera'], 'Lamborghini': ['Aventador', 'Countach', 'Diablo', 'Gallardo', 'Huracan', 'Huracan EVO', 'Huracan Spyder', 'Murcielago', 'Sián FKP 37', 'Unspecified', 'Urus'], 'Lancia': ['Unspecified'], 'Land Rover': ['Defender', 'Discovery', 'Discovery Series II', 'Discovery Sport', 'LR2', 'LR3', 'LR4', 'Range Rover', 'Range Rover Evoque', 'Range Rover Sport', 'Range Rover Velar', 'Series I', 'Series II', 'Series IIA', 'Unspecified'], 'Lexus': ['CT', 'ES', 'GS', 'GX', 'HS', 'IS', 'IS 500', 'IS C', 'IS F', 'LC', 'LS', 'LS 500', 'LX', 'LX 600', 'NX', 'RC', 'RC F', 'RX', 'RX 350H', 'RZ', 'SC', 'SC 400 Luxury Sport Coupe', 'Unspecified', 'UX'], 'Lincoln': ['Aviator', 'Continental', 'Corsair', 'Limousine', 'LS', 'Mark III', 'Mark IV', 'Mark LT', 'Mark V', 'Mark VI', 'Mark VIII', 'MKC', 'MKS', 'MKT', 'MKX', 'MKX Black Label', 'MKZ', 'Nautilus', 'Navigator', 'Premiere', 'Town Car', 'Unspecified'], 'Lotus': ['Elan', 'Elise', 'Emira', 'Esprit', 'Europa', 'Evora', 'Evora 400', 'Exige', 'Seven', 'Unspecified'], 'Lucid': ['Air'], 'Maserati': ['4200 GT', 'Coupé', 'Ghibli', 'GranCabrio', 'GranSport', 'GranTurismo', 'GRANTURISMO CONVERTIBLE', 'Grecale', 'Levante', 'MC12', 'MC20', 'Quattroporte', 'Spyder', 'Unspecified'], 'Maybach': ['57'], 'Mazda': ['1200', '2WD Pickup', '4WD Pickup', 'B-Series', 'CX-3', 'CX-30', 'CX-5', 'CX-50', 'CX-7', 'CX-9', 'CX-90', 'CX90 MHEV', 'CX90 PHEV', 'Mazda2', 'Mazda3', 'Mazda5', 'Mazda6', 'Mazdaspeed', 'Mazdaspeed3', 'Mazdaspeed6', 'Miata MX-5', 'Millenia', 'MPV', 'MX-30', 'MX-5', 'Protegé5', 'RX-7', 'RX-8', 'Scrum', 'Tribute', 'Unspecified'], 'McLaren': ['540C', '570GT', '570S', '600LT', '650S', '675LT', '720S', '765LT', 'Artura', 'GT', 'MP4-12C', 'P1', 'Senna', 'Unspecified'], 'McLaughlin-Buick': ['SERIES 41'], 'Mercedes-AMG': ['AMG GT', 'AMG GT S', 'C-Class', 'CLA-Class', 'CLS-Class', 'E-Class', 'G-Class', 'GLA-Class', 'GLC-Class', 'GLE-Class', 'S-Class', 'SL-Class'], 'Mercedes-Benz': ['220', '230', '250', '190 Series', '200 Series', '240 Series', '280 Series', '300 Series', '350 Series', '380 Series', '400 Series', '420 Series', '450 Series', '500 Series', '560 Series', '600 Series', 'A-Class', 'AMG GLE 53', 'AMG GT', 'AMG GT R', 'AMG GT S', 'B-Class', 'C-Class', 'CLA', 'CL-Class', 'CLK500 AMG', 'CLK-Class', 'CLS', 'E-Class', 'EQB', 'EQE', 'EQS', 'G65 AMG', 'G-Class', 'GLA', 'GLB', 'GLB250', 'GLC', 'GL-Class', 'GLE', 'GLE53 AMG', 'GLK-Class', 'GLS', 'Maybach', 'M-Class', 'Metris Passenger Van', 'R-Class', 'S-Class', 'SLC-Class', 'SL-Class', 'SLK-Class', 'SLR-Class', 'SLS AMG', 'Sprinter Cab Chassis', 'Sprinter Passenger Van', 'Unimog', 'Unspecified', 'V280'], 'Mercury': ['Comet', 'Cougar', 'Custom', 'Eight', 'Grand Marquis', 'M-100', 'Marauder', 'Meteor', 'Monarch', 'Montclair', 'Monterey', 'Park Lane', 'Unspecified'], 'MG': ['MGA', 'MGB', 'MGC', 'MIDGET', 'TA', 'TD'], 'MINI': ['3 Door', '5 Door', 'Clubman', 'Convertible', 'Countryman', 'Coupe', 'Paceman', 'Roadster', 'Unspecified'], 'Mitsubishi': ['3000GT', 'Delica', 'Eclipse', 'Eclipse Cross', 'Endeavor', 'FTO', 'Galant', 'i-MiEV', 'Lancer', 'LANCER RALLIART', 'Mirage', 'Mirage G4', 'Montero Sport', 'Outlander', 'Outlander PHEV', 'Pajero', 'Pajero IO', 'PHEV', 'Pickup', 'RVR', 'Unspecified'], 'Morgan': ['Plus 4', 'Roadster'], 'Morris': ['Minor'], 'MV-1': ['DX', 'SE'], 'Nash': ['Metropolitan 1500', 'Rambler'], 'Nissan': ['240SX', '300ZX', '350Z', '370Z', 'Altima', 'Ariya', 'Armada', 'Caravan', 'cube', 'Elgrand', 'Fairlady', 'Frontier', 'Gloria', 'GT-R', 'Hardbody 4WD', 'Juke', 'Kicks', 'King Cab 4WD', 'LEAF', 'Maxima', 'Micra', 'Murano', 'Murano CrossCabriolet', 'NV200 Compact Cargo', 'Pathfinder', 'Patrol', 'Pulsar', 'Qashqai', 'Quest', 'Rogue', 'Sentra', 'Silvia', 'Skyline', 'Stagea', 'Titan', 'Titan XD', 'Trucks 4WD', 'Unspecified', 'Van', 'Versa', 'Versa Note', 'Xterra', 'X-Trail', 'Z'], 'Oldsmobile': ['88', '98', '442', '98 Regency Elite', 'Alero', 'Bravada', 'Ciera', 'Cutlass', 'Cutlass Supreme', 'Omega', 'Starfire', 'Toronado'], 'Packard': ['Sedan'], 'Pagani': [], 'Passport': ['Unspecified'], 'Plymouth': ['Barracuda', 'Belvedere', 'Colt', 'Colt Vista Wagon', 'Coupe', 'CUDA', 'Duster', 'Fury', 'Gran Fury', 'Grand Voyager', 'Plaza', 'Prowler', 'Road Runner', 'Satellite', 'Sport Fury', 'Unspecified', 'Valiant'], 'Polestar': ['2', 'Unspecified'], 'Pontiac': ['2+2', 'Aztek', 'BEAUMONT', 'Bonneville', 'Catalina', 'Fiero', 'Firebird', 'G3', 'G5', 'G5 Pursuit', 'G6', 'G8', 'Grand Am', 'Grand Prix', 'GTO', 'Laurentian', 'LeMans', 'Montana', 'Montana SV6', 'Parisienne', 'Pathfinder', 'Pursuit', 'Solstice', 'Streamliner', 'Sunbird', 'Sunfire', 'Torrent', 'Trans Sport', 'Unspecified', 'Vibe', 'Wave'], 'Porsche': ['356', '911', '914', '924', '928', '930', '944', '964', '968', '718 Boxster', '718 Cayman', '718 Spyder', '911 Carrera GTS', '911 GT3 RS', '911 Targa 4', '911 Targa 4S', '911T', '918 Spyder', '928 S4', 'Boxster', 'Carrera GT', 'Cayenne', 'Cayman', 'Macan', 'Panamera', 'Speedster', 'Taycan', 'Unspecified'], 'Radical': ['Unspecified'], 'Ram': ['100', '150', '250', '350', '550', '1500', '2500', '3500', '4500', '1500 Classic', '5500 HD Chassis', 'Dakota', 'ProMaster Cargo Van', 'ProMaster City', 'Promaster City Wagon', 'ProMaster Window Van', 'Ram 3500 Cab-Chassis', 'SRT 10', 'Unspecified', 'Wagon'], 'Renault': ['Caravelle', 'Clio', 'Spider', 'Unspecified'], 'Rivian': ['R1S', 'R1T'], 'Rolls-Royce': ['Black Badge Cullinan', 'Black Badge Ghost', 'Corniche', 'Corniche IV', 'Cullinan', 'Dawn', 'Ghost', 'Phantom', 'Phantom III', 'Silver Cloud II', 'Silver Seraph', 'Silver Shadow', 'Silver Shadow II', 'Silver Spur', 'Silver Wraith', 'Wraith'], 'Rover': ['Unspecified'], 'Saab': ['96', '900', '9000', '9-2X', '9-3', '9-3X', '9-5', '9-7X'], 'Saleen': ['Mustang S281'], 'Saturn': ['Astra', 'Aura', 'Ion', 'Outlook', 'SC', 'SC1', 'SC2', 'SKY', 'SL', 'SL1', 'VUE'], 'Scion': ['FR-S', 'iM', 'iQ', 'tC', 'xB', 'xD'], 'Shelby': ['Cobra', 'F-150', 'GT', 'GT-H', 'Unspecified'], 'smart': ['EQ fortwo', 'fortwo', 'fortwo electric drive', 'Roadster', 'Unspecified'], 'Sterling': ['360', 'Bullet', 'Unspecified'], 'Studebaker': ['Champion', 'Lark', 'President'], 'Subaru': ['4 Dr', 'Ascent', 'B9 Tribeca', 'Baja', 'BRZ', 'Crosstrek', 'Crosstrek Plug-in Hybrid', 'Forester', 'Impreza', 'Impreza WRX', 'Impreza WRX STi', 'Legacy', 'Outback', 'Sambar', 'Solterra', 'SVX', 'Tribeca', 'Unspecified', 'WRX', 'WRX STi', 'XT', 'XV Crosstrek', 'XV Crosstrek Hybrid'], 'Sunbeam': ['Alpine', 'Tiger'], 'Superformance': ['Caterham'], 'Suzuki': ['Carry', 'Equator', 'Every', 'Grand Vitara', 'Jimny', 'KingQuad LT-A750XPZC', 'Kizashi', 'Sidekick', 'Swift', 'SX4', 'Unspecified', 'XL7'], 'Tesla': ['Model 3', 'Model S', 'Model X', 'Model Y', 'Roadster', 'Unspecified'], 'Toyota': ['86', '2WD Compact Trucks', '2WD Pickups', '4Runner', '4runner 4WD', '4WD Compact Pickups', '4WD Compact Trucks', '4WD Pickups', 'Alphard', 'Altezza', 'Aristo', 'Avalon', 'bZ4X', 'Caldina', 'Camry', 'Camry Solara', 'Celica', 'Celsior', 'Century', 'C-HR', 'Commercial Chassis-Cabs', 'Corolla', 'Corolla Cross', 'Corolla Hatchback', 'Corolla iM', 'Corona', 'Crown', 'Echo', 'Estima', 'FJ Cruiser', 'GR Corolla', 'GR Supra', 'GR86', 'Grand Highlander', 'Hiace', 'Highlander', 'Hilux', 'Hilux Surf', 'Land Cruiser', 'Mark II', 'Matrix', 'Mirai', 'MR2', 'MR2 Spyder', 'Paseo', 'Passenger Vans', 'Pickup & Landcruiser', 'Previa', 'Prius', 'Prius c', 'Prius Plug-In', 'Prius Prime', 'Prius v', 'RAV4', 'RAV4 Prime', 'Sequoia', 'Sienna', 'Solara', 'Supra', 'Tacoma', 'Tacoma Pickups', 'Tercel', 'Tundra', 'Unspecified', 'Venza', 'Yaris'], 'Triumph': ['Spitfire', 'Stag', 'TR', 'TR3A', 'Unspecified'], 'TVR': ['2500M', 'Griffith', 'Tuscan'], 'Volkswagen': ['Arteon', 'Atlas', 'Atlas Cross Sport', 'Beetle', 'Cabrio', 'Cabriolet', 'CC', 'Combi', 'Corrado', 'E-Golf', 'Eos', 'Eurovan', 'GLI', 'Golf', 'Golf Alltrack', 'Golf GTI', 'Golf R', 'Golf SportWagen', 'Golf Wagon', 'GTI', 'ID.4', 'Jetta', 'Jetta GLI', 'Jetta SportWagen', 'Jetta Wagon', 'Karmann Ghia', 'Passat', 'PASSAT CC', 'Passat Wagon', 'Phaeton', 'R32', 'Rabbit', 'Routan', 'Scirocco', 'Taos', 'The Thing', 'Tiguan', 'Touareg', 'Touareg 2', 'Type 2', 'Unspecified', 'Vanagon', 'WESTFALIA'], 'Volvo': ['240', '544', '740', '850', '940', '960', '1800', 'C30', 'C40 Recharge Pure Electric', 'C70', 'S40', 'S60', 'S60 Recharge', 'S70', 'S80', 'S90', 'S90 Recharge', 'S90 Series Sedan', 'Unspecified', 'V40', 'V50', 'V60', 'V60 Cross Country', 'V60 Polestar', 'V70', 'V90', 'V90 Cross Country', 'XC40', 'XC40 Recharge Pure Electric', 'XC60', 'XC60 Recharge', 'XC70', 'XC90', 'XC90 Hybrid', 'XC90 Recharge'], 'Willys': ['77', 'CJ-3A', 'JEEP STATION WAGON', 'M38', 'Pickup'], 'Other': 'Other'}\n"
     ]
    }
   ],
   "source": [
    "print(car_data)"
   ]
  },
  {
   "cell_type": "markdown",
   "metadata": {},
   "source": [
    "### Input a random postal code and click on \"show me cars\" button"
   ]
  },
  {
   "cell_type": "code",
   "execution_count": 166,
   "metadata": {},
   "outputs": [],
   "source": [
    "postal_code_input_element = driver.find_element(By.ID, \"locationAddressV2\")\n",
    "postal_code_input_element.send_keys(\"M5V 3L9\")\n",
    "show_me_cars_btn = driver.find_element(By.ID, \"SearchButton\")\n",
    "show_me_cars_btn.click()"
   ]
  },
  {
   "cell_type": "markdown",
   "metadata": {},
   "source": [
    "### List all the cars available by removing some filters in the search"
   ]
  },
  {
   "cell_type": "code",
   "execution_count": 167,
   "metadata": {},
   "outputs": [],
   "source": [
    "# click on the postal code box on the left side and change the radius to national to get all the cars listing\n",
    "postal_code_element = driver.find_element(By.ID, \"faceted-Location\")\n",
    "postal_code_element.click()\n",
    "\n",
    "# Locate the dropdown element\n",
    "dropdown_element = driver.find_element(By.ID, \"proximity\")\n",
    "\n",
    "# Initialize Select class\n",
    "select = Select(dropdown_element)\n",
    "\n",
    "# Select the 'National' option\n",
    "select.select_by_visible_text(\"National\")\n",
    "\n",
    "# save by clicking on the apply location button\n",
    "apply_location_btn = wait.until(EC.element_to_be_clickable((By.ID, \"applyLocation\")))\n",
    "\n",
    "apply_location_btn.click()\n",
    "\n",
    "# Locate the checkbox element\n",
    "damaged_checkbox_element = driver.find_element(By.ID, \"rfDamaged\")\n",
    "\n",
    "# Use JavaScript to click the checkbox\n",
    "driver.execute_script(\"arguments[0].click();\", damaged_checkbox_element)\n",
    "\n",
    "try:\n",
    "    # Wait until the apply button becomes clickable\n",
    "    apply_condition_btn = wait.until(EC.element_to_be_clickable((By.ID, \"applyCondition\")))\n",
    "    \n",
    "    # Click the button\n",
    "    apply_condition_btn.click()\n",
    "except TimeoutException:\n",
    "    driver.execute_script(\"document.getElementById('applyCondition').click();\")\n",
    "\n",
    "# click on \"Other Options\" menu\n",
    "other_option_menu  = driver.find_element(By.ID, 'faceted-parent-Other')\n",
    "driver.execute_script(\"arguments[0].click();\", other_option_menu)\n",
    "\n",
    "# Locate the \"With photos\" checkbox element\n",
    "with_photos_checkbox = driver.find_element(By.ID, \"rfPhoto\")\n",
    "\n",
    "# Use JavaScript to uncheck the \"with photo\"checkbox\n",
    "if with_photos_checkbox.is_selected():\n",
    "    driver.execute_script(\"arguments[0].click();\", with_photos_checkbox)\n",
    "\n",
    "# Get the apply button element \n",
    "driver.execute_script(\"arguments[0].click();\", driver.find_element(By.ID, \"applyOthers\"))\n",
    "\n",
    "\n",
    "\n",
    "# Locate the drop-down element for the displaying the number of cars on the list\n",
    "display_dropdown_element = driver.find_element(By.ID,\"pageSize\")\n",
    "\n",
    "# Initialize Select class\n",
    "select = Select(display_dropdown_element)\n",
    "\n",
    "# Select the '100' option by visible text\n",
    "select.select_by_visible_text(\"100\")\n",
    "\n"
   ]
  },
  {
   "cell_type": "code",
   "execution_count": 168,
   "metadata": {},
   "outputs": [],
   "source": [
    "# TODO: create a loop that goes through all the car listed items until the last item\n",
    "# TODO: by incrementing data-list-numerical-position and at the end of the page click on the next page\n",
    "# Get the first car\n",
    "element = driver.find_element(\"css selector\", \"span[data-list-numerical-position='1']\")\n",
    "element.click()"
   ]
  },
  {
   "cell_type": "markdown",
   "metadata": {},
   "source": [
    "### Collection each car information"
   ]
  },
  {
   "cell_type": "code",
   "execution_count": 169,
   "metadata": {},
   "outputs": [],
   "source": [
    "# Initialize an empty dictionary to store the car specifications\n",
    "car_specs = {}\n",
    "\n",
    "# Locate the element using CSS selector\n",
    "car_header_info = driver.find_element(By.CSS_SELECTOR, \"div#heroTitleWrapper > h1\").text\n",
    "\n",
    "# Split the string by spaces and tabs\n",
    "split_string = car_header_info.split()\n",
    "\n",
    "# Assign the first, second, and third words to respective variables\n",
    "year_of_manufacturing = split_string[0]\n",
    "make_estimate = split_string[1]\n",
    "model_estimate = split_string[2]\n",
    "car_specs[\"Year Of Manufacturing\"] = year_of_manufacturing"
   ]
  },
  {
   "cell_type": "markdown",
   "metadata": {},
   "source": [
    "### Added a word matcher using rapidfuzz to match make and model name that is extracted from the title and the dictionary collection of make and model"
   ]
  },
  {
   "cell_type": "code",
   "execution_count": 170,
   "metadata": {},
   "outputs": [],
   "source": [
    "def find_closest_words(make, model):\n",
    "    # Use RapidFuzz to find the closest matches for the make\n",
    "    closest_make_match = process.extractOne(make, car_data.keys())\n",
    "    \n",
    "    # Extract the closest make\n",
    "    closest_make = closest_make_match[0]\n",
    "    \n",
    "    # Access to the value using the key\n",
    "    all_models = car_data[closest_make]\n",
    "    \n",
    "    # Use RapidFuzz to find the closest matches for the model\n",
    "    closest_model_match = process.extractOne(model, all_models)\n",
    "    # Extract the closest make\n",
    "    closest_model = closest_model_match[0]\n",
    "    \n",
    "    return closest_make, closest_model\n",
    "\n",
    "\n",
    "make, model = find_closest_words(make_estimate, model_estimate)\n",
    "\n",
    "price_elements = driver.find_elements(By.XPATH,'//p[@class=\"hero-price\"]')\n",
    "\n",
    "price = price_elements[0].text\n",
    "\n",
    "\n",
    "car_specs[\"Make\"] = make\n",
    "car_specs[\"Model\"] = model\n",
    "car_specs[\"Price\"] = price"
   ]
  },
  {
   "cell_type": "code",
   "execution_count": 171,
   "metadata": {},
   "outputs": [
    {
     "name": "stdout",
     "output_type": "stream",
     "text": [
      "{'Year Of Manufacturing': 2020, 'Make': 'Lexus', 'Model': 'RX', 'Price': '43,674', 'Kilometres': '48,732 km', 'Status': 'Used', 'Trim': 'PREMIUM PKG|SUNROOF|BACK CAM|CAR-PLAY|BSM|', 'Body Type': 'SUV', 'Engine': 'V6 Cylinder Engine', '': ''}\n"
     ]
    }
   ],
   "source": [
    "# Find the number of list items in the unordered list\n",
    "car_specs_items = driver.find_elements(By.CSS_SELECTOR, \"#sl-card-body li\")\n",
    "\n",
    "# Loop through each list item\n",
    "for i in range(len(car_specs_items)):\n",
    "    try:\n",
    "        # Try to find the key and value for each car specification\n",
    "        key_element = driver.find_element(By.CSS_SELECTOR, f\"#spec-key-{i}\")\n",
    "        value_element = driver.find_element(By.CSS_SELECTOR, f\"#spec-value-{i}\")\n",
    "        \n",
    "        # Get the text from the elements\n",
    "        key = key_element.text\n",
    "        value = value_element.text\n",
    "        \n",
    "        # Store the key-value pair in the dictionary\n",
    "        car_specs[key] = value\n",
    "    except NoSuchElementException:\n",
    "        # If the element is not found, set the value for the key to \"None\"\n",
    "        car_specs[key] = \"None\"\n",
    "    finally:\n",
    "        time.sleep(1)\n",
    "\n",
    "# Print the car specifications\n",
    "print(car_specs)"
   ]
  },
  {
   "cell_type": "markdown",
   "metadata": {},
   "source": []
  },
  {
   "cell_type": "code",
   "execution_count": null,
   "metadata": {},
   "outputs": [],
   "source": []
  },
  {
   "cell_type": "code",
   "execution_count": null,
   "metadata": {},
   "outputs": [],
   "source": []
  }
 ],
 "metadata": {
  "kernelspec": {
   "display_name": "Python 3",
   "language": "python",
   "name": "python3"
  },
  "language_info": {
   "codemirror_mode": {
    "name": "ipython",
    "version": 3
   },
   "file_extension": ".py",
   "mimetype": "text/x-python",
   "name": "python",
   "nbconvert_exporter": "python",
   "pygments_lexer": "ipython3",
   "version": "3.11.5"
  }
 },
 "nbformat": 4,
 "nbformat_minor": 2
}
