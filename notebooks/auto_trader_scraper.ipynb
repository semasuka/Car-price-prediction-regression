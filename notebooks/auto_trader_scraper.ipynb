{
 "cells": [
  {
   "cell_type": "markdown",
   "metadata": {},
   "source": [
    "### Import all the libraries"
   ]
  },
  {
   "cell_type": "code",
   "execution_count": 512,
   "metadata": {},
   "outputs": [],
   "source": [
    "# Importing the necessary libraries for selenium\n",
    "from selenium import webdriver\n",
    "from selenium.webdriver.common.by import By\n",
    "from selenium.webdriver.support.ui import WebDriverWait, Select\n",
    "from selenium.webdriver.support import expected_conditions as EC\n",
    "from selenium.common.exceptions import TimeoutException\n",
    "from selenium.common.exceptions import NoSuchElementException, StaleElementReferenceException\n",
    "from rapidfuzz import process\n",
    "import time, re"
   ]
  },
  {
   "cell_type": "markdown",
   "metadata": {},
   "source": [
    "### Initialize WebDriver and navigate to the website"
   ]
  },
  {
   "cell_type": "code",
   "execution_count": 513,
   "metadata": {},
   "outputs": [],
   "source": [
    "# initialize the chrome driver\n",
    "driver = webdriver.Chrome()\n",
    "wait = WebDriverWait(driver, 2)\n",
    "# get the website URL\n",
    "driver.get(\"https://www.autotrader.ca/\")\n",
    "# will wait for an element to be interactable.\n",
    "driver.implicitly_wait(2)"
   ]
  },
  {
   "cell_type": "markdown",
   "metadata": {},
   "source": [
    "### Get all the cars maker and model names"
   ]
  },
  {
   "cell_type": "code",
   "execution_count": 514,
   "metadata": {},
   "outputs": [],
   "source": [
    "# Initialize Dictionary that will store the make as key and model as value\n",
    "car_data = {}\n",
    "\n",
    "# Locate the 'select' element that host all the cars brand names\n",
    "makes_drop_down_element = driver.find_element(By.ID, \"rfMakes\")\n",
    "\n",
    "# Find the 'optgroup' with label \"All Makes\"\n",
    "all_makes_optgroup = makes_drop_down_element.find_element(By.XPATH, \"./optgroup[@label='All Makes']\")\n",
    "\n",
    "# Find all 'option' elements under the 'optgroup'\n",
    "all_makes_options = all_makes_optgroup.find_elements(By.TAG_NAME, \"option\")\n",
    "\n",
    "# Loop through each 'option' and click it\n",
    "for option in all_makes_options:\n",
    "    car_make = option.text\n",
    "    option.click()\n",
    "    time.sleep(2)\n",
    "    \n",
    "    # Locate the 'select' element for models\n",
    "    model_drop_down_element = driver.find_element(By.ID, \"rfModel\")\n",
    "    \n",
    "    # Find all 'option' elements for models\n",
    "    model_options = model_drop_down_element.find_elements(By.TAG_NAME, \"option\")\n",
    "    \n",
    "    # Initialize list for models\n",
    "    all_models_options = []\n",
    "    \n",
    "    # Loop through each 'option' for models\n",
    "    for model_option in model_options[1:]:  # Skip the first 'option'\n",
    "        all_models_options.append(model_option.text)\n",
    "    \n",
    "    # Store in dictionary\n",
    "    car_data[car_make] = all_models_options\n",
    "# adding non specified car make and model as \"Other\"\n",
    "car_data['Other'] = 'Other'"
   ]
  },
  {
   "cell_type": "code",
   "execution_count": 515,
   "metadata": {},
   "outputs": [],
   "source": [
    "# select \"Any Make\" on the dropdown menu to get all the make\n",
    "selector = Select(makes_drop_down_element)\n",
    "selector.select_by_visible_text('Any Make')\n"
   ]
  },
  {
   "cell_type": "markdown",
   "metadata": {},
   "source": [
    "### Input a random postal code and click on \"show me cars\" button"
   ]
  },
  {
   "cell_type": "code",
   "execution_count": 516,
   "metadata": {},
   "outputs": [],
   "source": [
    "postal_code_input_element = driver.find_element(By.ID, \"locationAddressV2\")\n",
    "postal_code_input_element.send_keys(\"M5V 3L9\")\n",
    "show_me_cars_btn = driver.find_element(By.ID, \"SearchButton\")\n",
    "show_me_cars_btn.click()"
   ]
  },
  {
   "cell_type": "markdown",
   "metadata": {},
   "source": [
    "### List all the cars available by removing some filters in the search"
   ]
  },
  {
   "cell_type": "code",
   "execution_count": 517,
   "metadata": {},
   "outputs": [],
   "source": [
    "# click on the postal code box on the left side and change the radius to national to get all the cars listing\n",
    "postal_code_element = driver.find_element(By.ID, \"faceted-Location\")\n",
    "postal_code_element.click()\n",
    "\n",
    "# Locate the dropdown element\n",
    "dropdown_element = driver.find_element(By.ID, \"proximity\")\n",
    "\n",
    "# Initialize Select class\n",
    "select = Select(dropdown_element)\n",
    "\n",
    "# Select the 'National' option\n",
    "select.select_by_visible_text(\"National\")\n",
    "\n",
    "# save by clicking on the apply location button\n",
    "apply_location_btn = wait.until(EC.element_to_be_clickable((By.ID, \"applyLocation\")))\n",
    "\n",
    "apply_location_btn.click()\n",
    "\n",
    "# Locate the checkbox element\n",
    "damaged_checkbox_element = driver.find_element(By.ID, \"rfDamaged\")\n",
    "\n",
    "# Use JavaScript to click the checkbox\n",
    "driver.execute_script(\"arguments[0].click();\", damaged_checkbox_element)\n",
    "\n",
    "try:\n",
    "    # Wait until the apply button becomes clickable\n",
    "    apply_condition_btn = wait.until(EC.element_to_be_clickable((By.ID, \"applyCondition\")))\n",
    "    \n",
    "    # Click the button\n",
    "    apply_condition_btn.click()\n",
    "except TimeoutException:\n",
    "    driver.execute_script(\"document.getElementById('applyCondition').click();\")\n",
    "\n",
    "# click on \"Other Options\" menu\n",
    "other_option_menu  = driver.find_element(By.ID, 'faceted-parent-Other')\n",
    "driver.execute_script(\"arguments[0].click();\", other_option_menu)\n",
    "\n",
    "# Locate the \"With photos\" checkbox element\n",
    "with_photos_checkbox = driver.find_element(By.ID, \"rfPhoto\")\n",
    "\n",
    "# Use JavaScript to uncheck the \"with photo\"checkbox\n",
    "if with_photos_checkbox.is_selected():\n",
    "    driver.execute_script(\"arguments[0].click();\", with_photos_checkbox)\n",
    "\n",
    "# Get the apply button element \n",
    "driver.execute_script(\"arguments[0].click();\", driver.find_element(By.ID, \"applyOthers\"))\n",
    "\n",
    "\n",
    "\n",
    "# Locate the drop-down element for the displaying the number of cars on the list\n",
    "display_dropdown_element = driver.find_element(By.ID,\"pageSize\")\n",
    "\n",
    "# Initialize Select class\n",
    "select = Select(display_dropdown_element)\n",
    "\n",
    "# Select the '100' option by visible text\n",
    "select.select_by_visible_text(\"100\")\n",
    "\n"
   ]
  },
  {
   "cell_type": "code",
   "execution_count": 518,
   "metadata": {},
   "outputs": [],
   "source": [
    "# TODO: create a loop that goes through all the car listed items until the last item\n",
    "# TODO: by incrementing data-list-numerical-position and at the end of the page click on the next page\n",
    "# Get the first car\n",
    "element = driver.find_element(\"css selector\", \"span[data-list-numerical-position='1']\")\n",
    "try:\n",
    "    element.click()\n",
    "except StaleElementReferenceException:\n",
    "        # Handle the exception by re-locating the element\n",
    "        element = WebDriverWait(driver, 10).until(\n",
    "            EC.presence_of_element_located((By.CSS_SELECTOR, \"span[data-list-numerical-position='1']\"))\n",
    "        )\n",
    "        element.click()"
   ]
  },
  {
   "cell_type": "markdown",
   "metadata": {},
   "source": [
    "### Collection each car information"
   ]
  },
  {
   "cell_type": "code",
   "execution_count": 634,
   "metadata": {},
   "outputs": [],
   "source": [
    "# Initialize the dictionary to None for all the specification and to 0 for the highlights and features\n",
    "car_specs = {\n",
    "    'Make': None,\n",
    "    'Model': None,\n",
    "    'Year Of Manufacturing': None,\n",
    "    'Kilometres': None,\n",
    "    'Mileage Condition': None,\n",
    "    'Status': None,\n",
    "    'Trim': None,\n",
    "    'Body Type': None,\n",
    "    'Cylinder': None,\n",
    "    'Transmission': None,\n",
    "    'Drivetrain': None,\n",
    "    'Exterior Colour': None,\n",
    "    'Interior Colour': None,\n",
    "    'Passengers': None,\n",
    "    'Doors': None,\n",
    "    'Fuel Type': None,\n",
    "    'Fuel Economy': None,\n",
    "    'Air Conditioning': 0,\n",
    "    'Alarm': 0,\n",
    "    'Heated Mirrors': 0,\n",
    "    'Power Seat': 0,\n",
    "    'Heated Seats': 0,\n",
    "    'Power Windows': 0,\n",
    "    'Alloy Wheels': 0,\n",
    "    'Keyless Entry': 0,\n",
    "    'Stability Control': 0,\n",
    "    'Bluetooth': 0,\n",
    "    'Memory Seats': 0,\n",
    "    'Sunroof': 0,\n",
    "    'Dual Climate Controls': 0,\n",
    "    'Navigation System': 0,\n",
    "    'Tow Package': 0,\n",
    "    'Entertainment Package': 0,\n",
    "    'Power Locks': 0,\n",
    "    'Xenon Headlights': 0,\n",
    "    'Fog Lights': 0,\n",
    "    'Power Mirrors': 0,\n",
    "    'Price': None\n",
    "}"
   ]
  },
  {
   "cell_type": "code",
   "execution_count": 635,
   "metadata": {},
   "outputs": [],
   "source": [
    "# Locate the element using CSS selector\n",
    "car_header_info = driver.find_element(By.CSS_SELECTOR, \"div#heroTitleWrapper > h1\").text\n",
    "\n",
    "# Split the string by spaces and tabs\n",
    "split_string = car_header_info.split()\n",
    "\n",
    "# Assign the first, second, and third words to respective variables\n",
    "year_of_manufacturing = split_string[0]\n",
    "make_estimate = split_string[1]\n",
    "model_estimate = split_string[2]\n",
    "car_specs[\"Year Of Manufacturing\"] = year_of_manufacturing"
   ]
  },
  {
   "cell_type": "markdown",
   "metadata": {},
   "source": [
    "### Added a word matcher using rapidfuzz to match make and model name that is extracted from the title and the dictionary collection of make and model"
   ]
  },
  {
   "cell_type": "code",
   "execution_count": 636,
   "metadata": {},
   "outputs": [],
   "source": [
    "def find_closest_words(make, model):\n",
    "    # Use RapidFuzz to find the closest matches for the make\n",
    "    closest_make_match = process.extractOne(make, car_data.keys())\n",
    "    \n",
    "    # Extract the closest make\n",
    "    closest_make = closest_make_match[0]\n",
    "    \n",
    "    # Access to the value using the key\n",
    "    all_models = car_data[closest_make]\n",
    "    \n",
    "    # Use RapidFuzz to find the closest matches for the model\n",
    "    closest_model_match = process.extractOne(model, all_models)\n",
    "    # Extract the closest make\n",
    "    closest_model = closest_model_match[0]\n",
    "    \n",
    "    return closest_make, closest_model\n",
    "\n",
    "\n",
    "make, model = find_closest_words(make_estimate, model_estimate)\n",
    "\n",
    "price_elements = driver.find_elements(By.XPATH,'//p[@class=\"hero-price\"]')\n",
    "\n",
    "price = price_elements[0].text\n",
    "\n",
    "\n",
    "car_specs[\"Make\"] = make\n",
    "car_specs[\"Model\"] = model\n",
    "car_specs[\"Price\"] = price"
   ]
  },
  {
   "cell_type": "code",
   "execution_count": 637,
   "metadata": {},
   "outputs": [
    {
     "name": "stdout",
     "output_type": "stream",
     "text": [
      "Kilometres\n",
      "Status\n",
      "Trim\n",
      "Body Type\n"
     ]
    }
   ],
   "source": [
    "# Expand to see all the specs\n",
    "all_spec_toggle = driver.find_element(By.ID, \"btn-vdp-specs-toggle\")\n",
    "driver.execute_script(\"arguments[0].click();\", all_spec_toggle)\n",
    "# wait for the element to load\n",
    "time.sleep(1)\n",
    "# Find the number of list items in the unordered list in the Specifications block item\n",
    "car_specs_items = driver.find_elements(By.CSS_SELECTOR, \"#sl-card-body li\")\n",
    "# Loop through each list item\n",
    "for i in range(len(car_specs_items)):\n",
    "    key_element = driver.find_element(By.CSS_SELECTOR, f\"#spec-key-{i}\")\n",
    "    value_element = driver.find_element(By.CSS_SELECTOR, f\"#spec-value-{i}\")\n",
    "    \n",
    "    # Get the text from the elements\n",
    "    key = key_element.text\n",
    "    # only add the text that are present in the dictionary key\n",
    "    if key in car_specs.keys():\n",
    "        print(key)\n",
    "\n",
    "        value = value_element.text      \n",
    "        # Store the key-value pair in the dictionary\n",
    "        car_specs[key] = value\n",
    "    else:\n",
    "        #if the spec is not found in the car_specs dictionary key, skip it\n",
    "        pass\n",
    "\n"
   ]
  },
  {
   "cell_type": "code",
   "execution_count": 638,
   "metadata": {},
   "outputs": [],
   "source": [
    "# Find the combined fuel economy car mileage condition and add it to the dictionary\n",
    "try:\n",
    "    # Find the combined fuel economy\n",
    "    cbn_fuel_eco = driver.find_element(By.ID,\"vdp-fv-combined\").text\n",
    "    car_specs['Combined Fuel Economy'] = cbn_fuel_eco + 'L/100km'\n",
    "    # Find the element with the class=\"ca-indicator-active\" and get its text and add it to the dictionary\n",
    "    mileage_condition = driver.find_element(By.CSS_SELECTOR, \"p.ca-indicator-active\").text\n",
    "    car_specs['Mileage Condition'] = mileage_condition\n",
    "except NoSuchElementException:\n",
    "    # If not found, dont do anything\n",
    "    pass"
   ]
  },
  {
   "cell_type": "code",
   "execution_count": 639,
   "metadata": {},
   "outputs": [
    {
     "name": "stdout",
     "output_type": "stream",
     "text": [
      "{'Make': 'Porsche', 'Model': 'Cayenne', 'Year Of Manufacturing': '2021', 'Kilometres': '24,790 km', 'Mileage Condition': 'LOW KM', 'Status': 'Used', 'Trim': 'AWD', 'Body Type': 'SUV', 'Cylinder': None, 'Transmission': None, 'Drivetrain': None, 'Exterior Colour': None, 'Interior Colour': None, 'Passengers': None, 'Doors': None, 'Fuel Type': None, 'Fuel Economy': None, 'Air Conditioning': 0, 'Alarm': 0, 'Heated Mirrors': 0, 'Power Seat': 0, 'Heated Seats': 0, 'Power Windows': 0, 'Alloy Wheels': 0, 'Keyless Entry': 0, 'Stability Control': 0, 'Bluetooth': 0, 'Memory Seats': 0, 'Sunroof': 0, 'Dual Climate Controls': 0, 'Navigation System': 0, 'Tow Package': 0, 'Entertainment Package': 0, 'Power Locks': 0, 'Xenon Headlights': 0, 'Fog Lights': 0, 'Power Mirrors': 0, 'Price': '84,168', 'Combined Fuel Economy': '11.5L/100km'}\n"
     ]
    }
   ],
   "source": [
    "# Print the car specifications\n",
    "print(car_specs)"
   ]
  },
  {
   "cell_type": "markdown",
   "metadata": {},
   "source": [
    "### Getting all the features"
   ]
  },
  {
   "cell_type": "code",
   "execution_count": 640,
   "metadata": {},
   "outputs": [],
   "source": [
    "try:\n",
    "    # Expand to see all the feature section \n",
    "    all_feat_toggle = driver.find_element(By.ID, \"vdp-feature-toggle-btn\")\n",
    "    driver.execute_script(\"arguments[0].click();\", all_feat_toggle)\n",
    "    # wait for the element to load\n",
    "    time.sleep(1)\n",
    "    # Find the ul feat element by its ID\n",
    "    ul_car_feat_element = driver.find_element(By.ID, 'fo-card-body')\n",
    "\n",
    "    # Find all li elements within the ul\n",
    "    li_car_feat_elements = ul_car_feat_element.find_elements(By.TAG_NAME, 'li')\n",
    "\n",
    "    \n",
    "    \n",
    "    # Loop through each li element and get the text inside the span tag\n",
    "    for li in li_car_feat_elements:\n",
    "        span_text = li.find_element(By.TAG_NAME, 'span').text\n",
    "        # only add the text that are present in the dictionary key\n",
    "        if span_text in car_specs.keys():\n",
    "            car_specs[span_text] = 1\n",
    "        \n",
    "        \n",
    "    \n",
    "except NoSuchElementException:\n",
    "    # If not found, dont do anything\n",
    "    pass"
   ]
  },
  {
   "cell_type": "markdown",
   "metadata": {},
   "source": [
    "### Getting all the highlights"
   ]
  },
  {
   "cell_type": "code",
   "execution_count": 641,
   "metadata": {},
   "outputs": [],
   "source": [
    "try:\n",
    "    # Expand all the highlights\n",
    "    all_highlights = driver.find_element(By.ID, \"vdp-highlight-toggle-btn\")\n",
    "    driver.execute_script(\"arguments[0].click();\", all_highlights)\n",
    "    time.sleep(1)\n",
    "except NoSuchElementException:\n",
    "    # If not found, dont do anything\n",
    "    pass\n",
    "try:\n",
    "    # Wait until the ul element is available\n",
    "    ul_element = WebDriverWait(driver, 10).until(\n",
    "        EC.presence_of_element_located((By.ID, 'hl-card-body'))\n",
    "    )\n",
    "    \n",
    "    # Loop through all li elements within the ul\n",
    "    for li in ul_element.find_elements(By.TAG_NAME, 'li'):\n",
    "        # Locate the nested span containing the text\n",
    "        nested_span = li.find_element(By.CSS_SELECTOR, 'span.list-text')\n",
    "        \n",
    "        # Get the text from the nested span\n",
    "        feature_text = nested_span.text\n",
    "        \n",
    "        # Check if the text are only present in the car_feat dictionary\n",
    "        if feature_text in car_specs.keys():\n",
    "            car_specs[feature_text] = 1\n",
    "\n",
    "except NoSuchElementException:\n",
    "    # If not found, dont do anything\n",
    "    pass"
   ]
  },
  {
   "cell_type": "code",
   "execution_count": 642,
   "metadata": {},
   "outputs": [
    {
     "data": {
      "text/plain": [
       "{'Make': 'Porsche',\n",
       " 'Model': 'Cayenne',\n",
       " 'Year Of Manufacturing': '2021',\n",
       " 'Kilometres': '24,790 km',\n",
       " 'Mileage Condition': 'LOW KM',\n",
       " 'Status': 'Used',\n",
       " 'Trim': 'AWD',\n",
       " 'Body Type': 'SUV',\n",
       " 'Cylinder': None,\n",
       " 'Transmission': None,\n",
       " 'Drivetrain': None,\n",
       " 'Exterior Colour': None,\n",
       " 'Interior Colour': None,\n",
       " 'Passengers': None,\n",
       " 'Doors': None,\n",
       " 'Fuel Type': None,\n",
       " 'Fuel Economy': None,\n",
       " 'Air Conditioning': 1,\n",
       " 'Alarm': 0,\n",
       " 'Heated Mirrors': 1,\n",
       " 'Power Seat': 0,\n",
       " 'Heated Seats': 0,\n",
       " 'Power Windows': 1,\n",
       " 'Alloy Wheels': 0,\n",
       " 'Keyless Entry': 0,\n",
       " 'Stability Control': 1,\n",
       " 'Bluetooth': 0,\n",
       " 'Memory Seats': 0,\n",
       " 'Sunroof': 0,\n",
       " 'Dual Climate Controls': 0,\n",
       " 'Navigation System': 0,\n",
       " 'Tow Package': 0,\n",
       " 'Entertainment Package': 0,\n",
       " 'Power Locks': 0,\n",
       " 'Xenon Headlights': 0,\n",
       " 'Fog Lights': 0,\n",
       " 'Power Mirrors': 1,\n",
       " 'Price': '84,168',\n",
       " 'Combined Fuel Economy': '11.5L/100km'}"
      ]
     },
     "execution_count": 642,
     "metadata": {},
     "output_type": "execute_result"
    }
   ],
   "source": [
    "car_specs"
   ]
  },
  {
   "cell_type": "markdown",
   "metadata": {},
   "source": [
    "### Transformation of the dictionary"
   ]
  },
  {
   "cell_type": "code",
   "execution_count": 643,
   "metadata": {},
   "outputs": [],
   "source": [
    "def modify_dict(car_dict):\n",
    "    modified_dict = {}\n",
    "    for key, value in car_dict.items():\n",
    "        # Handle None values\n",
    "        if value is None:\n",
    "            modified_dict[key] = None\n",
    "            continue\n",
    "\n",
    "        # Modify specific keys\n",
    "        if key == \"Year Of Manufacturing\" or key == \"Cylinder\" or key == \"Door\" or key == \"Passengers\":\n",
    "            modified_dict[key] = int(value)\n",
    "        elif key == \"Price\":\n",
    "            modified_dict[key] = int(value.replace(\",\", \"\"))\n",
    "        elif key == \"Kilometres\":\n",
    "            modified_dict[\"Mileage\"] = int(value.replace(\",\", \"\").replace(\" km\", \"\"))\n",
    "        elif key == \"Trim\":\n",
    "            modified_dict[key] = re.split('[!\\\"#$%&\\'()*+,-./:;<=>?@[\\\\]^_`{|}~]', value)[0].strip()\n",
    "        elif key in [\"City Fuel Economy\", \"Hwy Fuel Economy\", \"Combined Fuel Economy\"]:\n",
    "            modified_dict[key] = float(re.search(r\"\\d+\\.\\d+\", value).group())\n",
    "        elif key == \"Mileage Condition\":\n",
    "            modified_dict[key] = value.replace(\" KM\", \"\").lower()\n",
    "        else:\n",
    "            modified_dict[key] = value\n",
    "    return modified_dict"
   ]
  },
  {
   "cell_type": "code",
   "execution_count": 644,
   "metadata": {},
   "outputs": [],
   "source": [
    "car_specs_mod = modify_dict(car_specs)"
   ]
  },
  {
   "cell_type": "code",
   "execution_count": 645,
   "metadata": {},
   "outputs": [
    {
     "data": {
      "text/plain": [
       "{'Make': 'Porsche',\n",
       " 'Model': 'Cayenne',\n",
       " 'Year Of Manufacturing': 2021,\n",
       " 'Mileage': 24790,\n",
       " 'Mileage Condition': 'low',\n",
       " 'Status': 'Used',\n",
       " 'Trim': 'AWD',\n",
       " 'Body Type': 'SUV',\n",
       " 'Cylinder': None,\n",
       " 'Transmission': None,\n",
       " 'Drivetrain': None,\n",
       " 'Exterior Colour': None,\n",
       " 'Interior Colour': None,\n",
       " 'Passengers': None,\n",
       " 'Doors': None,\n",
       " 'Fuel Type': None,\n",
       " 'Fuel Economy': None,\n",
       " 'Air Conditioning': 1,\n",
       " 'Alarm': 0,\n",
       " 'Heated Mirrors': 1,\n",
       " 'Power Seat': 0,\n",
       " 'Heated Seats': 0,\n",
       " 'Power Windows': 1,\n",
       " 'Alloy Wheels': 0,\n",
       " 'Keyless Entry': 0,\n",
       " 'Stability Control': 1,\n",
       " 'Bluetooth': 0,\n",
       " 'Memory Seats': 0,\n",
       " 'Sunroof': 0,\n",
       " 'Dual Climate Controls': 0,\n",
       " 'Navigation System': 0,\n",
       " 'Tow Package': 0,\n",
       " 'Entertainment Package': 0,\n",
       " 'Power Locks': 0,\n",
       " 'Xenon Headlights': 0,\n",
       " 'Fog Lights': 0,\n",
       " 'Power Mirrors': 1,\n",
       " 'Price': 84168,\n",
       " 'Combined Fuel Economy': 11.5}"
      ]
     },
     "execution_count": 645,
     "metadata": {},
     "output_type": "execute_result"
    }
   ],
   "source": [
    "car_specs_mod"
   ]
  },
  {
   "cell_type": "code",
   "execution_count": 646,
   "metadata": {},
   "outputs": [],
   "source": [
    "# TODO: Quite the driver and close the db connection"
   ]
  }
 ],
 "metadata": {
  "kernelspec": {
   "display_name": "Python 3",
   "language": "python",
   "name": "python3"
  },
  "language_info": {
   "codemirror_mode": {
    "name": "ipython",
    "version": 3
   },
   "file_extension": ".py",
   "mimetype": "text/x-python",
   "name": "python",
   "nbconvert_exporter": "python",
   "pygments_lexer": "ipython3",
   "version": "3.11.5"
  }
 },
 "nbformat": 4,
 "nbformat_minor": 2
}
